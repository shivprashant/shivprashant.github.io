{
 "cells": [
  {
   "cell_type": "markdown",
   "metadata": {},
   "source": [
    "# Solving Problems\n",
    "\n",
    "** Dont ** directly start writing your program. \n",
    "\n",
    "First do the following\n",
    "- Step1 : Understand what is being asked\n",
    "- Step2 : Write sequence of steps to solve the problem (This is your algorithm)\n",
    "- Step3 : Write code for those steps.\n",
    "\n"
   ]
  },
  {
   "cell_type": "markdown",
   "metadata": {},
   "source": [
    "# Solving Problems - Example\n",
    "\n",
    "Problem : Subtract 2 list.\n",
    "a = ['Sam','Siv','Mani']\n",
    "b = ['Siv','Sam']\n",
    "\n",
    "- Step 1 - Understand the problem and expected result.\n",
    "Here the expected result is a list with a single element ['Mani']\n",
    "\n",
    "- Step 2 - Write a sequence of steps to achive desired result\n",
    "    1. Take list b\n",
    "    2. Get a item from list b\n",
    "    3. Remove it from a\n",
    "    4. Keep doing 2, 3 till list b ends\n",
    "    5. Print a\n",
    "    \n",
    "    \n",
    " - Step 3 - Write the code"
   ]
  },
  {
   "cell_type": "code",
   "execution_count": 2,
   "metadata": {
    "collapsed": false
   },
   "outputs": [
    {
     "name": "stdout",
     "output_type": "stream",
     "text": [
      "['Mani']\n"
     ]
    }
   ],
   "source": [
    "a = ['Sam','Siv','Mani']\n",
    "b = ['Siv','Sam']\n",
    "\n",
    "for item in b:\n",
    "\ta.remove(item)\n",
    "\n",
    "print(a)"
   ]
  },
  {
   "cell_type": "markdown",
   "metadata": {
    "collapsed": true
   },
   "source": [
    "# Assignment this week\n",
    "- Use your design steps for 2-3 problems that you have already attempted\n",
    "\n"
   ]
  }
 ],
 "metadata": {
  "kernelspec": {
   "display_name": "Python 3",
   "language": "python",
   "name": "python3"
  },
  "language_info": {
   "codemirror_mode": {
    "name": "ipython",
    "version": 3
   },
   "file_extension": ".py",
   "mimetype": "text/x-python",
   "name": "python",
   "nbconvert_exporter": "python",
   "pygments_lexer": "ipython3",
   "version": "3.6.0"
  }
 },
 "nbformat": 4,
 "nbformat_minor": 2
}
