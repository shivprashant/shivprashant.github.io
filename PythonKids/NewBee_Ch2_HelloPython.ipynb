{
 "cells": [
  {
   "cell_type": "markdown",
   "metadata": {},
   "source": [
    "# Hello Computers, Python and my Tools\n",
    "\n",
    "## Part of a computer\n",
    "A typical computer consists of \n",
    "- Processing Unit composed on Arhitmetic Logic Unit and Control Unit\n",
    "- Memory that stores data and programs\n",
    "- Input devices\n",
    "- OutPut devices\n",
    "\n",
    "Such a computer design is reffered to a Von Neumann Architecture after the famous computer scientist and mathematician John Von Neuman\n",
    "<a href=\"#\"><img src=\"image/VonNeumann_Architecture.jpg\",width=600,height=400></a>\n",
    "\n",
    "\n",
    "## Python\n",
    "Python is a high level programming language that is used to control computer. As an Example, it can be used to ask the computer to add/muliply numbers, read values from input devices e.g. key board, change the read data, store and output it to other devices e.g. screen.\n",
    "\n",
    "Python was developed by Guido van Rossum with the goal of creating a easy and intutive language that is as understandable as plain english and can be used for most computer tasks, with short development time.\n",
    "\n",
    "<a href=\"#\"><img src=\"https://upload.wikimedia.org/wikipedia/commons/6/66/Guido_van_Rossum_OSCON_2006.jpg\",width=200,height=200></a>\n",
    "\n",
    "\n",
    "\n",
    "\n",
    "## Getting up and Running\n",
    "\n",
    "- Install Python from https://www.python.org/about/gettingstarted/\n",
    "\n",
    "- Get your self a Python Editor. Editors help developer read, write and organize their code. \n",
    "    - Several editors. Seach the internet. \n",
    "    - Popular ones are Sublime 3, Notepad++ etc.\n",
    "    \n",
    "- Demo - Let's use how having an editor helps.\n",
    "\n"
   ]
  },
  {
   "cell_type": "markdown",
   "metadata": {},
   "source": [
    "## Hello World\n",
    "Create a file and store it as Hello.py. Python files end with the extension .py\n",
    "The unique extenstion is a way for editor to understand that the file has python code inside."
   ]
  },
  {
   "cell_type": "code",
   "execution_count": 1,
   "metadata": {
    "collapsed": false
   },
   "outputs": [
    {
     "name": "stdout",
     "output_type": "stream",
     "text": [
      "Hello World\n"
     ]
    }
   ],
   "source": [
    "print(\"Hello World\")"
   ]
  },
  {
   "cell_type": "markdown",
   "metadata": {},
   "source": [
    "## Python indentation\n",
    "Python advocates clean and beautiful code. Code indentation is enforced as a language feature. un indented code will results in errors. This is pythons way of ensuring well written code."
   ]
  },
  {
   "cell_type": "code",
   "execution_count": 2,
   "metadata": {
    "collapsed": false
   },
   "outputs": [
    {
     "ename": "IndentationError",
     "evalue": "unexpected indent (<ipython-input-2-0cf8430848ef>, line 3)",
     "output_type": "error",
     "traceback": [
      "\u001b[0;36m  File \u001b[0;32m\"<ipython-input-2-0cf8430848ef>\"\u001b[0;36m, line \u001b[0;32m3\u001b[0m\n\u001b[0;31m    print(\"hi\")\u001b[0m\n\u001b[0m    ^\u001b[0m\n\u001b[0;31mIndentationError\u001b[0m\u001b[0;31m:\u001b[0m unexpected indent\n"
     ]
    }
   ],
   "source": [
    "#The following code will give an error\n",
    "print(\"Hello\")\n",
    "         print(\"hi\")"
   ]
  },
  {
   "cell_type": "code",
   "execution_count": 3,
   "metadata": {
    "collapsed": false
   },
   "outputs": [
    {
     "name": "stdout",
     "output_type": "stream",
     "text": [
      "Hello\n",
      "Hi\n"
     ]
    }
   ],
   "source": [
    "#The following code is indented in the right way\n",
    "print(\"Hello\")\n",
    "print(\"Hi\")"
   ]
  },
  {
   "cell_type": "markdown",
   "metadata": {},
   "source": [
    "### Learning to get help\n",
    "\t- Have a problem. Google/Bing for it! - \"Python how print hello world\"\n",
    "\t- Stackoverflow - Mostly googling for would get your to stackoverflow\n",
    "\n",
    "### Assignment\n",
    "\t- Download\\Install editor – Get your environment ready!! (try sublime or notepad++)\n",
    "\t- Say Hello Python!. Use Print to print a few words of your choice on the screen\n",
    "    - Print the following 9 layered reveres traingle. How many print statement you used?\n",
    "                        *****************\n",
    "                         *************** \n",
    "                          *************  \n",
    "                           ***********   \n",
    "                            *********    \n",
    "                             *******     \n",
    "                              *****      \n",
    "                               ***       \n",
    "                                *  \n",
    "            \n",
    "      - Challange- Print the triangle above using a single print statement.\n"
   ]
  },
  {
   "cell_type": "code",
   "execution_count": null,
   "metadata": {
    "collapsed": true
   },
   "outputs": [],
   "source": []
  }
 ],
 "metadata": {
  "kernelspec": {
   "display_name": "Python 3",
   "language": "python",
   "name": "python3"
  },
  "language_info": {
   "codemirror_mode": {
    "name": "ipython",
    "version": 3
   },
   "file_extension": ".py",
   "mimetype": "text/x-python",
   "name": "python",
   "nbconvert_exporter": "python",
   "pygments_lexer": "ipython3",
   "version": "3.6.0"
  }
 },
 "nbformat": 4,
 "nbformat_minor": 2
}
