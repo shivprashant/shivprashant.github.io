{
 "cells": [
  {
   "cell_type": "markdown",
   "metadata": {},
   "source": [
    "# The Building blocks\n",
    "\n",
    "Programming is all about reading, modifing ,  writing and taking decisions about Data. The youtube video, for example,  is just a stream of data and video player ( your program) takes decision , reads, writes and modifies the data stream it to make it visible on  your computer screen.\n",
    "\n",
    "Ability read , write and modify data is a key feature of any programming language. For that Programming languages support \n",
    "- **Data types** that enable creation, reading and writing of data\n",
    "- **Operations** that enable modification and decisions on data \n",
    "\n",
    "### Data Types\n",
    "- Simple data types - integer, character, float\n",
    "- Complex or Aggregate data types - strings, list, tuples, dictonaries \n",
    "- User defined data type - e.g. Video stream.\n",
    "\n",
    "### Operators\n",
    "- Arithmetic operators \n",
    "- Conditional operators\n"
   ]
  },
  {
   "cell_type": "markdown",
   "metadata": {},
   "source": [
    "# Practice\n",
    "\n",
    "## Simple Data Type"
   ]
  },
  {
   "cell_type": "code",
   "execution_count": 12,
   "metadata": {
    "collapsed": false
   },
   "outputs": [
    {
     "name": "stdout",
     "output_type": "stream",
     "text": [
      "This is a integer :  10\n",
      "This is a decimal :  2.3\n",
      "Multiply operator applied on integer and decimal  23.0\n"
     ]
    }
   ],
   "source": [
    "#Basic data types\n",
    "i = 10\n",
    "j = 2.3\n",
    "print(\"This is a integer : \",i)\n",
    "print(\"This is a decimal : \",j)\n",
    "\n",
    "print(\"Multiply operator applied on integer and decimal \", i*j)"
   ]
  },
  {
   "cell_type": "markdown",
   "metadata": {},
   "source": [
    "## Complex Data Type - List\n",
    "A list is an unordered collection of same or diffirent items\n"
   ]
  },
  {
   "cell_type": "code",
   "execution_count": 13,
   "metadata": {
    "collapsed": false
   },
   "outputs": [
    {
     "name": "stdout",
     "output_type": "stream",
     "text": [
      "List of vegetables ['cabbage', 'carrot', 'spinach']\n",
      "List of fruits ['apple', 'banana', 'pear', 'orange']\n"
     ]
    }
   ],
   "source": [
    "#Creating a list\n",
    "\n",
    "vegetables = ['cabbage','carrot','spinach']\n",
    "fruits = ['apple','banana','pear', 'orange']\n",
    "\n",
    "print(\"List of vegetables\", vegetables)\n",
    "print(\"List of fruits\", fruits)\n"
   ]
  },
  {
   "cell_type": "code",
   "execution_count": 15,
   "metadata": {
    "collapsed": false
   },
   "outputs": [
    {
     "name": "stdout",
     "output_type": "stream",
     "text": [
      "Nr of fruits :  5\n",
      "List of fruits :  ['grape', 'orange', 'pear', 'banana', 'apple', 'grape']\n",
      "Nr of oranges is :  1\n",
      "Fruit list reversed :  ['grape', 'apple', 'banana', 'pear', 'orange', 'grape']\n",
      "Combined fruits and vegetable lists :  ['cabbage', 'carrot', 'spinach', 'grape', 'apple', 'banana', 'pear', 'orange', 'grape']\n"
     ]
    }
   ],
   "source": [
    "#Operations of an list - Refer https://docs.python.org/2/tutorial/datastructures.html \n",
    "\n",
    "#Lenght of list - the len() function\n",
    "print(\"Nr of fruits : \", len(fruits))\n",
    "\n",
    "#List.append(item) - add a element to list\n",
    "fruits.append('grape')\n",
    "print(\"List of fruits : \", fruits)\n",
    "\n",
    "\n",
    "#List.count(item) - count nr of given items in the list\n",
    "print(\"Nr of oranges is : \", fruits.count('orange'))\n",
    "\n",
    "#List.reverse() - turn it upside down ;-)\n",
    "fruits.reverse()\n",
    "print(\"Fruit list reversed : \", fruits)\n",
    "\n",
    "# Can 2 list be added? Can i use '+' operator on it.\n",
    "fruits_and_vegetables = vegetables +  fruits\n",
    "print(\"Combined fruits and vegetable lists : \",fruits_and_vegetables)"
   ]
  },
  {
   "cell_type": "code",
   "execution_count": 6,
   "metadata": {
    "collapsed": false
   },
   "outputs": [
    {
     "ename": "TypeError",
     "evalue": "can't multiply sequence by non-int of type 'list'",
     "output_type": "error",
     "traceback": [
      "\u001b[0;31m---------------------------------------------------------------------------\u001b[0m",
      "\u001b[0;31mTypeError\u001b[0m                                 Traceback (most recent call last)",
      "\u001b[0;32m<ipython-input-6-c019cefeb12e>\u001b[0m in \u001b[0;36m<module>\u001b[0;34m()\u001b[0m\n\u001b[1;32m      1\u001b[0m \u001b[1;31m# Can 2 list be multipled?\u001b[0m\u001b[1;33m\u001b[0m\u001b[1;33m\u001b[0m\u001b[0m\n\u001b[0;32m----> 2\u001b[0;31m \u001b[0mfruits_multiply_vegetables\u001b[0m \u001b[1;33m=\u001b[0m \u001b[0mvegetables\u001b[0m \u001b[1;33m*\u001b[0m \u001b[0mfruits\u001b[0m\u001b[1;33m\u001b[0m\u001b[0m\n\u001b[0m\u001b[1;32m      3\u001b[0m \u001b[1;33m\u001b[0m\u001b[0m\n",
      "\u001b[0;31mTypeError\u001b[0m: can't multiply sequence by non-int of type 'list'"
     ]
    }
   ],
   "source": [
    "# Can 2 list be multipled or? \n",
    "fruits_multiply_vegetables = vegetables * fruits\n",
    "\n"
   ]
  },
  {
   "cell_type": "code",
   "execution_count": 17,
   "metadata": {
    "collapsed": false
   },
   "outputs": [
    {
     "name": "stdout",
     "output_type": "stream",
     "text": [
      "pear\n",
      "banana\n",
      "strawberries\n",
      "mango\n",
      "apple\n",
      "peach\n"
     ]
    }
   ],
   "source": [
    "for fruit in fruits:\n",
    "    print(fruit)\n",
    "    \n",
    "for i in range(1,10):\n",
    "    print(i)"
   ]
  },
  {
   "cell_type": "code",
   "execution_count": 20,
   "metadata": {
    "collapsed": false
   },
   "outputs": [
    {
     "name": "stdout",
     "output_type": "stream",
     "text": [
      "I have something for dinner\n",
      "I have more than 2 fruits\n"
     ]
    }
   ],
   "source": [
    "#Conditional operators on list\n",
    "\n",
    "if len(vegetables)!=0:\n",
    "    print(\"I have something for dinner\")\n",
    "    \n",
    "if len(fruits) > 2:\n",
    "    print(\"I have more than 2 fruits\")"
   ]
  },
  {
   "cell_type": "markdown",
   "metadata": {
    "collapsed": true
   },
   "source": [
    "# Assignment this week\n",
    "- Assignment  : Create a list of 10 'Fruits' you can think and then a list of 'Fruit you dont like'. Remove 'Fruits you dont like' from 'Fruits' to get to a list of 'Fruits you like'. Count the number of fruits you like\n",
    "- Think about 4-5 programming project you want to do. We'll use this list in next class to lock on projects once you we are done with basic. Yes, these are individual projects.\n",
    "\n",
    "# Challenge\n",
    "**Advanced Assignment (Optional)** : Create a program to print files names of photos in \"Pictures\" folder of your computer.\n"
   ]
  },
  {
   "cell_type": "code",
   "execution_count": null,
   "metadata": {
    "collapsed": true
   },
   "outputs": [],
   "source": []
  }
 ],
 "metadata": {
  "kernelspec": {
   "display_name": "Python 3",
   "language": "python",
   "name": "python3"
  },
  "language_info": {
   "codemirror_mode": {
    "name": "ipython",
    "version": 3
   },
   "file_extension": ".py",
   "mimetype": "text/x-python",
   "name": "python",
   "nbconvert_exporter": "python",
   "pygments_lexer": "ipython3",
   "version": "3.6.0"
  }
 },
 "nbformat": 4,
 "nbformat_minor": 2
}
