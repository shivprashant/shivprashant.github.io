{
 "cells": [
  {
   "cell_type": "markdown",
   "metadata": {},
   "source": [
    "## Using Python Editor for programming\n",
    "\n",
    "### Python Editor \n",
    "\n",
    "- Python Editor help a developer read, write and organize their code. \n",
    "- IDE stands for Integrated Development Envorinment. Editor is a one part. Another is Python complier, technicall interpreter.\n",
    "- Several editors. Seach the internet. Download/Install Sublime Text 3. We'll try this for next 2-4 weeks.\n",
    "- Demo - Let's use how having an editor helps.\n",
    "\n",
    "### Using the Editor for a basic program\n",
    "Program : Write a table of 3 till 10 i.e. 3*1 = 3, 3*2 = 6... \n",
    "\n",
    "\n"
   ]
  },
  {
   "cell_type": "code",
   "execution_count": 10,
   "metadata": {
    "collapsed": false
   },
   "outputs": [
    {
     "name": "stdout",
     "output_type": "stream",
     "text": [
      "3 *  1  =  3\n",
      "3 *  2  =  6\n",
      "3 *  3  =  9\n",
      "3 *  4  =  12\n",
      "3 *  5  =  15\n",
      "3 *  6  =  18\n",
      "3 *  7  =  21\n",
      "3 *  8  =  24\n",
      "3 *  9  =  27\n"
     ]
    }
   ],
   "source": [
    "for i in range(1,10):\n",
    "    # 3 * 1 = 3\n",
    "    # 3 * 2 = 6\n",
    "    # ...\n",
    "    print(\"3 * \", i,\" = \", 3*i)"
   ]
  },
  {
   "cell_type": "markdown",
   "metadata": {},
   "source": [
    "What are function for? Let's change to use a function"
   ]
  },
  {
   "cell_type": "code",
   "execution_count": 11,
   "metadata": {
    "collapsed": false
   },
   "outputs": [
    {
     "name": "stdout",
     "output_type": "stream",
     "text": [
      "3 *  1  =  3\n",
      "3 *  2  =  6\n",
      "3 *  3  =  9\n",
      "3 *  4  =  12\n",
      "3 *  5  =  15\n",
      "3 *  6  =  18\n",
      "3 *  7  =  21\n",
      "3 *  8  =  24\n",
      "3 *  9  =  27\n"
     ]
    }
   ],
   "source": [
    "#Define the function\n",
    "def generateTable():\n",
    "    for i in range(1,10):\n",
    "        # 3 * 1 = 3\n",
    "        # 3 * 2 = 6\n",
    "        print(\"3 * \", i,\" = \", 3*i)\n",
    "    \n",
    "    return\n",
    "\n",
    "#Call the function.\n",
    "generateTable()"
   ]
  },
  {
   "cell_type": "markdown",
   "metadata": {},
   "source": [
    "### Learning to get help\n",
    "\t- Have a problem. Google for it! - \"Python how do i write a for loop\"\n",
    "\t- Stackoverflow - Mostly googling for would get your to stackoverflow\n",
    "\n",
    "### Assignment this week\n",
    "\t- Download\\Install editor – Get your environment ready!! (sublime text editor)\n",
    "\t- Run your program\n",
    "\t- Challange Assignment 1\n",
    "        - The example generateTable just generates a table for 3.\n",
    "        - Modify generateTable() generates table to generate a table of any number.\n",
    "        - Hint : Change the generateTable funtion to take the number ( for which table should be generated) as an input.\n",
    "    - Challange Assignment 2\n",
    "        - Create a function that given a number divides it from 1 to 10 and print the results for each. \n",
    "        - An example output ( first 3 rows) is as follows for number 5\n",
    "            5 dividedby 1 = 5\n",
    "            5 dividedby 2 = 2.5\n",
    "            5 dividedby 3 = 1.6\n",
    "            ...\n",
    "         - Hint : Tables are a result of multiplication. What's the opposite of multiplication.\n",
    "        \n",
    "### A few hits\n",
    "    - Print output and syntax depends on python version you are using. Refer https://docs.python.org/3.0/whatsnew/3.0.html"
   ]
  }
 ],
 "metadata": {
  "kernelspec": {
   "display_name": "Python 3",
   "language": "python",
   "name": "python3"
  },
  "language_info": {
   "codemirror_mode": {
    "name": "ipython",
    "version": 3
   },
   "file_extension": ".py",
   "mimetype": "text/x-python",
   "name": "python",
   "nbconvert_exporter": "python",
   "pygments_lexer": "ipython3",
   "version": "3.6.0"
  }
 },
 "nbformat": 4,
 "nbformat_minor": 2
}
