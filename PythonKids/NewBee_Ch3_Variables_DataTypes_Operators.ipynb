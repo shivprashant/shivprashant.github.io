{
 "cells": [
  {
   "cell_type": "markdown",
   "metadata": {},
   "source": [
    "# The Building blocks\n",
    "\n",
    "Programming is all about \n",
    "- Reading  \n",
    "- Modifing  \n",
    "- Writing Data and \n",
    "- taking decisions about Data. \n",
    "\n",
    "Example - The youtube video is just a stream of data (lot of picture data). The video player ( the program) reads, writes, modifies and takes decision on the data stream. Thus making it visible on  your screen.\n",
    "\n",
    "Ability to read , write and modify data is a key feature of any programming language. For that programming languages support \n",
    "- ** Variables ** that allow to name a given data and reference\n",
    "- ** Data types ** that enable creation, reading and writing of various types of data\n",
    "- ** Operations ** that enable modification and decisions on data \n",
    "\n",
    "\n",
    "\n"
   ]
  },
  {
   "cell_type": "markdown",
   "metadata": {},
   "source": [
    "## Variables\n",
    "Think of variable as a bucket that holds a value. A variable has a name and contains a value.\n",
    "- Variable name can be a letter or a word. e.g. X or Tmp\n",
    "- Variable value can be a data of any type - A number , letter or  word\n",
    "\n",
    "<img src=\"image/Variable_Values.jpg\",width=200,height=200>"
   ]
  },
  {
   "cell_type": "code",
   "execution_count": 3,
   "metadata": {
    "collapsed": false
   },
   "outputs": [
    {
     "name": "stdout",
     "output_type": "stream",
     "text": [
      "x = 5\n",
      "y = 6\n",
      "Let's assign y's value to x\n",
      "x = 6\n",
      "y = 6\n"
     ]
    }
   ],
   "source": [
    "#Creating variable\n",
    "x=5\n",
    "y=6\n",
    "print(\"x =\", x)\n",
    "print(\"y =\", y)\n",
    "\n",
    "print(\"Let's assign y's value to x\")\n",
    "\n",
    "x = y \n",
    "\n",
    "print(\"x =\",x)\n",
    "print(\"y =\",y)"
   ]
  },
  {
   "cell_type": "markdown",
   "metadata": {},
   "source": [
    "## Data Types\n",
    "\n",
    "- Numeric data types \n",
    "    - ** int ** for integer data\n",
    "    - ** float ** for fractions ( represented as float)\n",
    "\n",
    "- Non numberic or string data type\n",
    "    - ** str ** to store single character, words and sentences \n",
    "    \n",
    "- Boolean data type\n",
    "    - ** bool ** to store True and False. Specially for taking decisions\n",
    "\n",
    "\n",
    "There are more data types but that's for later classes"
   ]
  },
  {
   "cell_type": "code",
   "execution_count": 13,
   "metadata": {
    "collapsed": false
   },
   "outputs": [
    {
     "name": "stdout",
     "output_type": "stream",
     "text": [
      "\n",
      "Printing the numeric data types!\n",
      "x =  20\n",
      "y =  20.3\n",
      "\n",
      "Printing the string data types!\n",
      "a =  H\n",
      "b =  Hi\n",
      "c =  Hello There!\n",
      "\n",
      "Printing the boolean data type!\n",
      "d =  True\n",
      "e =  False\n"
     ]
    }
   ],
   "source": [
    "#Numeric data types\n",
    "x = 20\n",
    "y = 20.3\n",
    "\n",
    "print(\"\\nPrinting the numeric data types!\")\n",
    "print(\"x = \",x)\n",
    "print(\"y = \",y)\n",
    "\n",
    "print(\"\\nPrinting the string data types!\")\n",
    "a = \"H\"\n",
    "b = \"Hi\"\n",
    "c = \"Hello There!\"\n",
    "\n",
    "print(\"a = \",a)\n",
    "print(\"b = \",b)\n",
    "print(\"c = \",c)\n",
    "\n",
    "print(\"\\nPrinting the boolean data type!\")\n",
    "d = True\n",
    "e = False\n",
    "\n",
    "print(\"d = \",d)\n",
    "print(\"e = \",e)"
   ]
  },
  {
   "cell_type": "markdown",
   "metadata": {},
   "source": [
    "## Operators\n",
    "As the name suggest programming language operators help support several operations on data. operations help do math on data and take decisions about data. e.g. in 4+3 < 21 \"<\" and \"+\" are operators.\n",
    "Two main type of operators\n",
    "- ** Arithmetic ** operators. Example +,-,*,/ \n",
    "- ** Comparison ** operators. Example <,>,<=, >= , ==,!="
   ]
  },
  {
   "cell_type": "code",
   "execution_count": 18,
   "metadata": {
    "collapsed": false
   },
   "outputs": [
    {
     "name": "stdout",
     "output_type": "stream",
     "text": [
      "a plus b =  6\n",
      "a minus b =  2\n",
      "a multipled by b =  8\n",
      "a divided by b =  2.0\n",
      "a remainder when divided by b  0\n"
     ]
    }
   ],
   "source": [
    "# Arithmetic operators\n",
    "a = 4\n",
    "b = 2\n",
    "\n",
    "c = a+b\n",
    "print(\"a plus b = \", c)\n",
    "\n",
    "c = a -b \n",
    "print(\"a minus b = \", c)\n",
    "\n",
    "c = a*b\n",
    "print(\"a multipled by b = \", c)\n",
    "\n",
    "c = a/b\n",
    "print(\"a divided by b = \", c)\n",
    "\n",
    "c= a%b # Also refered to as mod operator\n",
    "print(\"a remainder when divided by b \",c)\n"
   ]
  },
  {
   "cell_type": "code",
   "execution_count": 20,
   "metadata": {
    "collapsed": false
   },
   "outputs": [
    {
     "name": "stdout",
     "output_type": "stream",
     "text": [
      "a less than b =  False\n",
      "a less than equal to b =  False\n",
      "a greater than to b =  True\n",
      "a greater than equal to b =  True\n",
      "a not equal to b =  True\n"
     ]
    }
   ],
   "source": [
    "# Arithmetic operators\n",
    "a = 4\n",
    "b = 2\n",
    "\n",
    "c = a<b\n",
    "print(\"a less than b = \", c)\n",
    "\n",
    "c = a<=b \n",
    "print(\"a less than equal to b = \", c)\n",
    "\n",
    "c = a>b\n",
    "print(\"a greater than to b = \", c)\n",
    "\n",
    "c = a>=b\n",
    "print(\"a greater than equal to b = \", c)\n",
    "\n",
    "c = a!=b\n",
    "print(\"a not equal to b = \", c)"
   ]
  },
  {
   "cell_type": "markdown",
   "metadata": {
    "collapsed": true
   },
   "source": [
    "# Assignment this week\n",
    "- Swap the values of variable X=4 and Y=5. Print values of X and Y before and after swap.\n",
    "- Tom, Rob and Bobby ran a total distance of 10Km. Tom ran 2km. Rob ran 2 times the distance than Tom. What distance did Bobby run?\n",
    "\n",
    "\n",
    "# Challenge\n",
    "**Advanced Assignment (Optional)** : Solve any of the math challange problems using a program.\n"
   ]
  },
  {
   "cell_type": "code",
   "execution_count": null,
   "metadata": {
    "collapsed": true
   },
   "outputs": [],
   "source": []
  }
 ],
 "metadata": {
  "kernelspec": {
   "display_name": "Python 3",
   "language": "python",
   "name": "python3"
  },
  "language_info": {
   "codemirror_mode": {
    "name": "ipython",
    "version": 3
   },
   "file_extension": ".py",
   "mimetype": "text/x-python",
   "name": "python",
   "nbconvert_exporter": "python",
   "pygments_lexer": "ipython3",
   "version": "3.6.0"
  }
 },
 "nbformat": 4,
 "nbformat_minor": 2
}
