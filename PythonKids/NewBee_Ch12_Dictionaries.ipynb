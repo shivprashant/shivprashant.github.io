{
 "cells": [
  {
   "cell_type": "markdown",
   "metadata": {},
   "source": [
    "# Dictionaries in python\n",
    "\n",
    "## What's a dictionary?\n",
    "Think of a the english language dictionary. What does it do? It holds word and their meanings. More importantly, words can be searched quickly. Once we get to the word the meaning is stored along with it. We can think of as a collection (words, meaning)\n",
    "\n",
    "Similarly python dictionary is data structure that holds (key, value) pairs/\n",
    "\n",
    "## Why dictionaries? - easy to lookup\n",
    "What if the english dictionary was a list of words. How easy would it be to search word meaning?\n",
    "\n"
   ]
  },
  {
   "cell_type": "markdown",
   "metadata": {},
   "source": [
    "## Creating Dictionaries in python\n",
    "- As an example let's create a disctionary of shops and a grocery item we buy from there. \n",
    "- Let's see how easy its is to find out what we buy from a given shop"
   ]
  },
  {
   "cell_type": "code",
   "execution_count": 13,
   "metadata": {
    "collapsed": false
   },
   "outputs": [
    {
     "name": "stdout",
     "output_type": "stream",
     "text": [
      "{'FredMayer': 'Milk', 'Trader Joe': 'Chocolate', 'SafeWay': 'Jorito'}\n",
      "I buy  Milk from FredMayer\n"
     ]
    }
   ],
   "source": [
    "items = {'FredMayer':'Milk','Trader Joe':'Chocolate', 'SafeWay':'Jorito'}\n",
    "print(items)\n",
    "\n",
    "print(\"I buy \",items['FredMayer'],  \"from FredMayer\")"
   ]
  },
  {
   "cell_type": "markdown",
   "metadata": {},
   "source": [
    "## A few important properties of Dictionaries\n",
    "- Keys should be unique\ti.e. no duplicates\n",
    "- Values can be single items or list of items or more dictionaries them selves"
   ]
  },
  {
   "cell_type": "code",
   "execution_count": 14,
   "metadata": {
    "collapsed": false
   },
   "outputs": [
    {
     "name": "stdout",
     "output_type": "stream",
     "text": [
      "Keys should be unique and thus only one of the (key,values) gets printed\n",
      "{'FredMayer': 'Tomatoes'}\n",
      "\n",
      "Example where dictionary values are list\n",
      "{'Traders Joe': ['Chocolate', 'Milk', 'Apples'], 'FredMayer': ['Tomatoes', 'Oranges', 'Bread'], 'Costco': ['Strawberry', 'Spinach', 'Chicken']}\n",
      "\n",
      "Its easy to know what u will buy at costco\n",
      "From costco we buy  ['Strawberry', 'Spinach', 'Chicken']\n"
     ]
    }
   ],
   "source": [
    "tmp = {'FredMayer':'Milk','FredMayer':'Tomatoes'}\n",
    "print(\"Keys should be unique and thus only one of the (key,values) gets printed\")\n",
    "print(tmp)\n",
    "\n",
    "print(\"\\nExample where dictionary values are list\")\n",
    "shopping_dictionary = {'Traders Joe':['Chocolate','Milk','Apples'],\n",
    "                       'FredMayer' : ['Tomatoes','Oranges','Bread'],\n",
    "                       'Costco' : ['Strawberry','Spinach', 'Chicken']}\n",
    "\n",
    "print(shopping_dictionary)\n",
    "\n",
    "print(\"\\nIts easy to know what u will buy at costco\")\n",
    "print(\"From costco we buy \",shopping_dictionary['Costco'])"
   ]
  },
  {
   "cell_type": "markdown",
   "metadata": {},
   "source": [
    "## Operations on dictionaries\n",
    "- Add a item\n",
    "- Delete an item\n",
    "\n"
   ]
  },
  {
   "cell_type": "code",
   "execution_count": 16,
   "metadata": {
    "collapsed": false
   },
   "outputs": [
    {
     "name": "stdout",
     "output_type": "stream",
     "text": [
      "\n",
      "Add another shopping destination and list of items to the existing disctionary\n",
      "{'Traders Joe': ['Chocolate', 'Milk', 'Apples'], 'FredMayer': ['Tomatoes', 'Oranges', 'Bread'], 'Costco': ['Strawberry', 'Spinach', 'Chicken'], 'SafeWay': ['Jorrito', 'Milk']}\n",
      "\n",
      "Delete one shopping destination\n",
      "{'FredMayer': ['Tomatoes', 'Oranges', 'Bread'], 'Costco': ['Strawberry', 'Spinach', 'Chicken'], 'SafeWay': ['Jorrito', 'Milk']}\n"
     ]
    }
   ],
   "source": [
    "print(\"\\nAdd another shopping destination and list of items to the existing disctionary\")\n",
    "shopping_dictionary['SafeWay'] = ['Jorrito','Milk']\n",
    "print(shopping_dictionary)\n",
    "\n",
    "print(\"\\nDelete one shopping destination\")\n",
    "#Delete\n",
    "del(shopping_dictionary['Traders Joe'])\n",
    "print(shopping_dictionary)"
   ]
  },
  {
   "cell_type": "markdown",
   "metadata": {
    "collapsed": true
   },
   "source": [
    "# Assignment this week\n",
    "Assignment  :TBD\n",
    "\n",
    "# Challenge\n",
    "**Advanced Assignment (Optional)** : TBD\n"
   ]
  },
  {
   "cell_type": "code",
   "execution_count": null,
   "metadata": {
    "collapsed": true
   },
   "outputs": [],
   "source": []
  }
 ],
 "metadata": {
  "kernelspec": {
   "display_name": "Python 3",
   "language": "python",
   "name": "python3"
  },
  "language_info": {
   "codemirror_mode": {
    "name": "ipython",
    "version": 3
   },
   "file_extension": ".py",
   "mimetype": "text/x-python",
   "name": "python",
   "nbconvert_exporter": "python",
   "pygments_lexer": "ipython3",
   "version": "3.6.0"
  }
 },
 "nbformat": 4,
 "nbformat_minor": 2
}
